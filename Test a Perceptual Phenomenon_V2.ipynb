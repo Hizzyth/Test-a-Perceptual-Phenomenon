{
 "cells": [
  {
   "cell_type": "markdown",
   "metadata": {},
   "source": [
    "### Analyzing the Stroop Effect\n",
    "\n",
    "\n",
    "(1) What is the independent variable? What is the dependent variable?"
   ]
  },
  {
   "cell_type": "markdown",
   "metadata": {},
   "source": [
    "-  __Independent Variable__ : By definition independent variable is a regressor, and in this case that will be the ___congurent or incongurent word condition___. <br>\n",
    "-  __Dependent Variable__ : By definition dependent variable is output/outcome whose variation is being studied. So in this case ___Measured Time___ is the dependent variable."
   ]
  },
  {
   "cell_type": "markdown",
   "metadata": {},
   "source": [
    "(2) What is an appropriate set of hypotheses for this task? Specify your null and alternative hypotheses, and clearly define any notation used. Justify your choices."
   ]
  },
  {
   "cell_type": "markdown",
   "metadata": {},
   "source": [
    "##### Setting Hypothesis\n",
    "\n",
    "$$ H_0:  \\mu_{incong} = \\mu_{cong} $$ <br>\n",
    "$$ H_1: \\mu_{incong} \\neq \\mu_{cong}$$\n",
    "\n",
    "\n",
    "- __H0(Null Hypothesis)__: ___Response time___ between  incongurant and congurant words is ___same___. <br>\n",
    "- __H1(Alternative Hypothesis)__: ___Response time___ between  incongurant and congurant words is ___not the same___.\n",
    "-  __$μ_{incong}$__ : Population mean of Incongruent words response time\n",
    "-  __$μ_{cong}$__ : Population mean of Congruent words response time\n",
    "\n",
    "##### Test Selection\n",
    "-  __z-test__:If the population standard deviation, σ, is known and either the data is normally distributed or the sample size n > 30, we use the normal distribution (z-statistic). , but in our case ___sample size is small (24)___. Hence this is ___not a good option___\n",
    "\n",
    "-  __t-test__: When the population standard deviation, σ, is unknown and either the data is normally distributed or the sample size is greater than 30 (n > 30), we use the t-distribution (t-statistic). which is inline with our case. Hence this is ___a good option___\n",
    "\n",
    "- __f-test__: Unlike z and t-test, f-test is used to find out variance of two populations.\n",
    "\n",
    "\n",
    "Based on this selected hypothesis and test selection considerations, I will use the dependent __t-test__ method for this analysis."
   ]
  },
  {
   "cell_type": "markdown",
   "metadata": {},
   "source": [
    "(3) Report some descriptive statistics regarding this dataset. Include at least one measure of central tendency and at least one measure of variability. The name of the data file is 'stroopdata.csv'."
   ]
  },
  {
   "cell_type": "code",
   "execution_count": 1,
   "metadata": {
    "scrolled": true
   },
   "outputs": [],
   "source": [
    "#Importing libraries\n",
    "import pandas as pd\n",
    "import numpy as np\n",
    "import matplotlib.pyplot as plt\n",
    "import seaborn as sns\n",
    "import scipy.stats as stats\n",
    "import math\n",
    "%matplotlib inline"
   ]
  },
  {
   "cell_type": "code",
   "execution_count": 2,
   "metadata": {},
   "outputs": [],
   "source": [
    "# setting parameters for seaborn charts\n",
    "sns.set(context='notebook', style='darkgrid',color_codes = True)"
   ]
  },
  {
   "cell_type": "code",
   "execution_count": 3,
   "metadata": {
    "scrolled": false
   },
   "outputs": [
    {
     "data": {
      "text/html": [
       "<div>\n",
       "<style scoped>\n",
       "    .dataframe tbody tr th:only-of-type {\n",
       "        vertical-align: middle;\n",
       "    }\n",
       "\n",
       "    .dataframe tbody tr th {\n",
       "        vertical-align: top;\n",
       "    }\n",
       "\n",
       "    .dataframe thead th {\n",
       "        text-align: right;\n",
       "    }\n",
       "</style>\n",
       "<table border=\"1\" class=\"dataframe\">\n",
       "  <thead>\n",
       "    <tr style=\"text-align: right;\">\n",
       "      <th></th>\n",
       "      <th>Congruent</th>\n",
       "      <th>Incongruent</th>\n",
       "    </tr>\n",
       "  </thead>\n",
       "  <tbody>\n",
       "    <tr>\n",
       "      <th>0</th>\n",
       "      <td>12.079</td>\n",
       "      <td>19.278</td>\n",
       "    </tr>\n",
       "    <tr>\n",
       "      <th>1</th>\n",
       "      <td>16.791</td>\n",
       "      <td>18.741</td>\n",
       "    </tr>\n",
       "    <tr>\n",
       "      <th>2</th>\n",
       "      <td>9.564</td>\n",
       "      <td>21.214</td>\n",
       "    </tr>\n",
       "    <tr>\n",
       "      <th>3</th>\n",
       "      <td>8.630</td>\n",
       "      <td>15.687</td>\n",
       "    </tr>\n",
       "    <tr>\n",
       "      <th>4</th>\n",
       "      <td>14.669</td>\n",
       "      <td>22.803</td>\n",
       "    </tr>\n",
       "  </tbody>\n",
       "</table>\n",
       "</div>"
      ],
      "text/plain": [
       "   Congruent  Incongruent\n",
       "0     12.079       19.278\n",
       "1     16.791       18.741\n",
       "2      9.564       21.214\n",
       "3      8.630       15.687\n",
       "4     14.669       22.803"
      ]
     },
     "execution_count": 3,
     "metadata": {},
     "output_type": "execute_result"
    }
   ],
   "source": [
    "# Importing data and checking header\n",
    "df = pd.read_csv('stroopdata.csv')\n",
    "df.head()"
   ]
  },
  {
   "cell_type": "code",
   "execution_count": 4,
   "metadata": {},
   "outputs": [
    {
     "data": {
      "text/html": [
       "<div>\n",
       "<style scoped>\n",
       "    .dataframe tbody tr th:only-of-type {\n",
       "        vertical-align: middle;\n",
       "    }\n",
       "\n",
       "    .dataframe tbody tr th {\n",
       "        vertical-align: top;\n",
       "    }\n",
       "\n",
       "    .dataframe thead th {\n",
       "        text-align: right;\n",
       "    }\n",
       "</style>\n",
       "<table border=\"1\" class=\"dataframe\">\n",
       "  <thead>\n",
       "    <tr style=\"text-align: right;\">\n",
       "      <th></th>\n",
       "      <th>Congruent</th>\n",
       "      <th>Incongruent</th>\n",
       "    </tr>\n",
       "  </thead>\n",
       "  <tbody>\n",
       "    <tr>\n",
       "      <th>count</th>\n",
       "      <td>24.000000</td>\n",
       "      <td>24.000000</td>\n",
       "    </tr>\n",
       "    <tr>\n",
       "      <th>mean</th>\n",
       "      <td>14.051125</td>\n",
       "      <td>22.015917</td>\n",
       "    </tr>\n",
       "    <tr>\n",
       "      <th>std</th>\n",
       "      <td>3.559358</td>\n",
       "      <td>4.797057</td>\n",
       "    </tr>\n",
       "    <tr>\n",
       "      <th>min</th>\n",
       "      <td>8.630000</td>\n",
       "      <td>15.687000</td>\n",
       "    </tr>\n",
       "    <tr>\n",
       "      <th>25%</th>\n",
       "      <td>11.895250</td>\n",
       "      <td>18.716750</td>\n",
       "    </tr>\n",
       "    <tr>\n",
       "      <th>50%</th>\n",
       "      <td>14.356500</td>\n",
       "      <td>21.017500</td>\n",
       "    </tr>\n",
       "    <tr>\n",
       "      <th>75%</th>\n",
       "      <td>16.200750</td>\n",
       "      <td>24.051500</td>\n",
       "    </tr>\n",
       "    <tr>\n",
       "      <th>max</th>\n",
       "      <td>22.328000</td>\n",
       "      <td>35.255000</td>\n",
       "    </tr>\n",
       "  </tbody>\n",
       "</table>\n",
       "</div>"
      ],
      "text/plain": [
       "       Congruent  Incongruent\n",
       "count  24.000000    24.000000\n",
       "mean   14.051125    22.015917\n",
       "std     3.559358     4.797057\n",
       "min     8.630000    15.687000\n",
       "25%    11.895250    18.716750\n",
       "50%    14.356500    21.017500\n",
       "75%    16.200750    24.051500\n",
       "max    22.328000    35.255000"
      ]
     },
     "execution_count": 4,
     "metadata": {},
     "output_type": "execute_result"
    }
   ],
   "source": [
    "#Statistic summary of Congurent and Incongurent condition\n",
    "df.describe()"
   ]
  },
  {
   "cell_type": "markdown",
   "metadata": {},
   "source": [
    "##### Observations: <br>\n",
    "-  __Mean__ of Incongruent condition is higher that Congruent condition\n",
    "-  __Standard deviation__ is also higher for Incongurent indicating that distribution maybe wider in this case compared to Congurent condition.\n"
   ]
  },
  {
   "cell_type": "markdown",
   "metadata": {},
   "source": [
    "(4) Provide one or two visualizations that show the distribution of the sample data. Write one or two sentences noting what you observe about the plot or plots."
   ]
  },
  {
   "cell_type": "code",
   "execution_count": 5,
   "metadata": {},
   "outputs": [
    {
     "name": "stderr",
     "output_type": "stream",
     "text": [
      "C:\\Users\\HThakur\\AppData\\Local\\Continuum\\anaconda3\\lib\\site-packages\\matplotlib\\axes\\_axes.py:6462: UserWarning: The 'normed' kwarg is deprecated, and has been replaced by the 'density' kwarg.\n",
      "  warnings.warn(\"The 'normed' kwarg is deprecated, and has been \"\n",
      "C:\\Users\\HThakur\\AppData\\Local\\Continuum\\anaconda3\\lib\\site-packages\\matplotlib\\axes\\_axes.py:6462: UserWarning: The 'normed' kwarg is deprecated, and has been replaced by the 'density' kwarg.\n",
      "  warnings.warn(\"The 'normed' kwarg is deprecated, and has been \"\n"
     ]
    },
    {
     "data": {
      "image/png": "[encoded data removed]",
      "text/plain": [
       "<Figure size 432x288 with 1 Axes>"
      ]
     },
     "metadata": {},
     "output_type": "display_data"
    }
   ],
   "source": [
    "#Calculating Mean for each condition\n",
    "cong_mean = df['Congruent'].mean()\n",
    "incong_mean = df['Incongruent'].mean()\n",
    "\n",
    "#Assigning data to charts\n",
    "ax = sns.distplot( df[\"Congruent\"] , color=\"green\", label=\"Congruent\");\n",
    "ax = sns.distplot( df[\"Incongruent\"] , color=\"red\", label=\"Incongruent\");\n",
    "\n",
    "#plotting vertical line for mean\n",
    "plt.axvline(x = cong_mean, label = \"Congruent_Mean\", color = \"green\");\n",
    "plt.axvline(x = incong_mean, label = \"Incongruent_Mean\",color=\"red\");\n",
    "\n",
    "#setting labels\n",
    "ax.set(xlabel='Response Time', ylabel='Probability')\n",
    "plt.legend();\n",
    "\n"
   ]
  },
  {
   "cell_type": "markdown",
   "metadata": {},
   "source": [
    "\n",
    "\n"
   ]
  },
  {
   "cell_type": "markdown",
   "metadata": {},
   "source": [
    "##### Observations: <br>\n",
    "-  Distribution curve is depicting that the for majority of cases response time is higher with Incongruent condition compared to Congruent condition. (overlap is small and as concluded before, mean is higher).\n",
    "-  Possible outlier for Incongruent data (towards higher response time)\n",
    "-  Mean value is closer to peak, hence "
   ]
  },
  {
   "cell_type": "markdown",
   "metadata": {},
   "source": [
    "(5)  Now, perform the statistical test and report your results. What is your confidence level or Type I error associated with your test? What is your conclusion regarding the hypotheses you set up? Did the results match up with your expectations? **Hint:**  Think about what is being measured on each individual, and what statistic best captures how an individual reacts in each environment."
   ]
  },
  {
   "cell_type": "code",
   "execution_count": 6,
   "metadata": {},
   "outputs": [
    {
     "name": "stdout",
     "output_type": "stream",
     "text": [
      "Difference in mean of Incongruent and congruent condition : 7.964791666666665\n",
      "Standard deviation of difference in values : 4.864826910359056\n",
      "t-critical value for this test is: 1.71387152775\n"
     ]
    }
   ],
   "source": [
    "#Calculating difference in means\n",
    "diff_mean = incong_mean - cong_mean\n",
    "print (\"Difference in mean of Incongruent and congruent condition :\",diff_mean)\n",
    "\n",
    "#Calculating difference in values and adding the column\n",
    "df['diff_value'] = df['Incongruent']- df['Congruent']\n",
    "\n",
    "#Calculating standard deviation in difference values\n",
    "std_diff_value = df['diff_value'].std()\n",
    "print (\"Standard deviation of difference in values :\",std_diff_value)\n",
    "\n",
    "# Calculating t-critical value with confidence interval 95%\n",
    "sample_size = len(df)\n",
    "deg_free = sample_size -1\n",
    "ci = 0.95\n",
    "crit_t = stats.t.ppf(ci,deg_free)\n",
    "\n",
    "print (\"t-critical value for this test is:\",crit_t)"
   ]
  },
  {
   "cell_type": "code",
   "execution_count": 7,
   "metadata": {
    "scrolled": true
   },
   "outputs": [
    {
     "name": "stdout",
     "output_type": "stream",
     "text": [
      "t-statistic value for this test is: 8.020706944109955\n"
     ]
    }
   ],
   "source": [
    "#Calculating t-statistic\n",
    "\n",
    "t = diff_mean/(std_diff_value/math.sqrt(sample_size))\n",
    "print (\"t-statistic value for this test is:\",t)"
   ]
  },
  {
   "cell_type": "code",
   "execution_count": 8,
   "metadata": {},
   "outputs": [
    {
     "data": {
      "text/plain": [
       "0.99999997948499708"
      ]
     },
     "execution_count": 8,
     "metadata": {},
     "output_type": "execute_result"
    }
   ],
   "source": [
    "stats.t.cdf(t,df=deg_free)"
   ]
  },
  {
   "cell_type": "code",
   "execution_count": 9,
   "metadata": {},
   "outputs": [
    {
     "name": "stdout",
     "output_type": "stream",
     "text": [
      "Upper boud of CI is: 9.66671517005\n",
      "Lower boud of CI is: 6.26286816328\n"
     ]
    }
   ],
   "source": [
    "#Calculating Confidence Intervals\n",
    "\n",
    "ci_upper = diff_mean + crit_t *(std_diff_value/math.sqrt(sample_size))\n",
    "ci_lower = diff_mean - crit_t *(std_diff_value/math.sqrt(sample_size))\n",
    "print (\"Upper boud of CI is:\",ci_upper)                           \n",
    "print (\"Lower boud of CI is:\",ci_lower)                                "
   ]
  },
  {
   "cell_type": "markdown",
   "metadata": {},
   "source": [
    "##### Observations: <br>\n",
    "-  Since the calculated t-statistic (8.02) is higher than t-critical (1.71), we can __reject the null hypothesis__.\n",
    "-  95% confidence interval bounds are __(9.7 , 6.2)__. Which indicates that __it takes minimum 6.2 sec more for Incongruent task__ compared to congruent one."
   ]
  },
  {
   "cell_type": "markdown",
   "metadata": {},
   "source": [
    "(6) Optional: What do you think is responsible for the effects observed? Can you think of an alternative or similar task that would result in a similar effect? Some research about the problem will be helpful for thinking about these two questions!"
   ]
  },
  {
   "cell_type": "markdown",
   "metadata": {},
   "source": [
    "##### Research Findings: <br>\n",
    "-  2 theories may explain the stroop effect:\n",
    "    -  __Speed of Processing__ : Tendancy to read words faster than actually observing the colors.\n",
    "    -  __Selective Attention Theory__ : Interference between named colors and the actual colors.\n",
    "-  Other application (variation) of similar test is __Emotional Stroop test__. Where emotional and nuteral words are used instead of color coding in original Stroop experiment.\n",
    "-  Per my understanding application of this test is mainly focused on __Cognitive neuropsychology__, which aims to understand how brain reacts to psychological processes."
   ]
  },
  {
   "cell_type": "markdown",
   "metadata": {},
   "source": [
    "### Reference \n",
    "-  Dependent and Independent Variables: https://en.wikipedia.org/wiki/Dependent_and_independent_variables\n",
    "-  kwarg Error Message: https://github.com/MichaelGrupp/evo/issues/28\n",
    "-  t-test theory: https://towardsdatascience.com/inferential-statistics-series-t-test-using-numpy-2718f8f9bf2f\n",
    "-  Stroop effect: https://imotions.com/blog/the-stroop-effect/\n",
    "-  Emotional Stroop test: https://en.wikipedia.org/wiki/Emotional_Stroop_test\n",
    "-  Cognitive neuropsychology: https://en.wikipedia.org/wiki/Cognitive_neuropsychology\n",
    "-  Selecting Hypothesis test: http://cfcc.edu/faculty/cmoore/0801-HypothesisTests.pdf\n"
   ]
  },
  {
   "cell_type": "code",
   "execution_count": null,
   "metadata": {},
   "outputs": [],
   "source": []
  }
 ],
 "metadata": {
  "kernelspec": {
   "display_name": "Python 3",
   "language": "python",
   "name": "python3"
  },
  "language_info": {
   "codemirror_mode": {
    "name": "ipython",
    "version": 3
   },
   "file_extension": ".py",
   "mimetype": "text/x-python",
   "name": "python",
   "nbconvert_exporter": "python",
   "pygments_lexer": "ipython3",
   "version": "3.6.5"
  }
 },
 "nbformat": 4,
 "nbformat_minor": 2
}
